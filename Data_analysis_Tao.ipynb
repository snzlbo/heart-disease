{
 "cells": [
  {
   "cell_type": "code",
   "execution_count": 24,
   "id": "4cbaf47c",
   "metadata": {},
   "outputs": [],
   "source": [
    "import numpy as np\n",
    "import pandas as pd\n",
    "import matplotlib.pyplot as plt\n",
    "from scipy import stats\n",
    "import seaborn as sns\n",
    "from sklearn.preprocessing import StandardScaler\n",
    "from sklearn.decomposition import PCA"
   ]
  },
  {
   "cell_type": "code",
   "execution_count": null,
   "id": "695d6b8e",
   "metadata": {},
   "outputs": [],
   "source": [
    "df = pd.read_csv('./heart.csv')\n",
    "df.head()"
   ]
  },
  {
   "cell_type": "code",
   "execution_count": null,
   "id": "5de5268e",
   "metadata": {},
   "outputs": [
    {
     "name": "stdout",
     "output_type": "stream",
     "text": [
      "count of RestiongBP <=0 :  0\n",
      "count of Cholesterol <=0 :  0\n",
      "count of Oldpeak <0 :  0\n",
      "Target: HeartDisease\n",
      "Numeric features: ['Age', 'RestingBP', 'Cholesterol', 'FastingBS', 'MaxHR', 'Oldpeak']\n",
      "Categorical features: ['Sex', 'ChestPainType', 'RestingECG', 'ExerciseAngina', 'ST_Slope']\n"
     ]
    }
   ],
   "source": [
    "TARGET_COL = \"HeartDisease\"\n",
    "df.columns = [c.strip() for c in df.columns]\n",
    "\n",
    "# NaN the abnormal \n",
    "for col in [\"Cholesterol\", \"RestingBP\"]:\n",
    "    if col in df.columns:\n",
    "        df[col] = df[col].replace(0, np.nan)\n",
    "if \"Oldpeak\" in df.columns:\n",
    "    df.loc[df[\"Oldpeak\"] < 0, \"Oldpeak\"] = np.nan\n",
    "\n",
    "#for check \n",
    "print(f\"count of RestiongBP <=0 :  {(df['RestingBP'] <= 0).sum()}\")\n",
    "print(f\"count of Cholesterol <=0 :  {(df['Cholesterol'] <= 0).sum()}\")\n",
    "print(f\"count of Oldpeak <0 :  {(df['Oldpeak'] < 0).sum()}\")\n",
    "\n",
    "# recognize column type\n",
    "num_cols = [c for c in df.columns if pd.api.types.is_numeric_dtype(df[c]) and c != TARGET_COL]\n",
    "cat_cols = [c for c in df.columns if (not pd.api.types.is_numeric_dtype(df[c])) and c != TARGET_COL]\n",
    "\n",
    "print(\"Target:\", TARGET_COL)\n",
    "print(\"Numeric features:\", num_cols)\n",
    "print(\"Categorical features:\", cat_cols)"
   ]
  },
  {
   "cell_type": "code",
   "execution_count": 18,
   "id": "6cce36a7",
   "metadata": {},
   "outputs": [],
   "source": [
    "num_cols.remove('FastingBS')  # it is categorical, remove it from numerical\n",
    "cat_cols.append('FastingBS')  # add it into categorical column"
   ]
  },
  {
   "cell_type": "code",
   "execution_count": null,
   "id": "636eef7d",
   "metadata": {},
   "outputs": [],
   "source": [
    "desc = df[num_cols].describe().T\n",
    "print(\"\\n[Univariate] Numeric describe:\\n\", desc)"
   ]
  },
  {
   "cell_type": "code",
   "execution_count": null,
   "id": "71608179",
   "metadata": {},
   "outputs": [],
   "source": [
    "# numerical column distribution\n",
    "for c in num_cols:\n",
    "    plt.figure()\n",
    "    df[c].dropna().hist(bins=30)\n",
    "    plt.title(f\"Distribution of {c}\")\n",
    "    plt.xlabel(c)\n",
    "    plt.ylabel(\"Frequency\")\n",
    "    plt.tight_layout()\n",
    "    plt.show()"
   ]
  },
  {
   "cell_type": "code",
   "execution_count": null,
   "id": "b546a865",
   "metadata": {},
   "outputs": [],
   "source": [
    "for c in cat_cols:\n",
    "    vc = df[c].value_counts(dropna=False)\n",
    "    print(f\"\\n[Univariate] Categorical {c} value counts:\\n{vc}\")\n",
    "    plt.figure()\n",
    "    vc.plot(kind=\"bar\")\n",
    "    plt.title(f\"Count of {c}\")\n",
    "    plt.xlabel(c)\n",
    "    plt.ylabel(\"Count\")\n",
    "    plt.tight_layout()\n",
    "    plt.show()"
   ]
  },
  {
   "cell_type": "code",
   "execution_count": null,
   "id": "8134cd86",
   "metadata": {},
   "outputs": [],
   "source": [
    "corr_pearson  = df[num_cols].corr(method=\"pearson\")\n",
    "corr_spearman = df[num_cols].corr(method=\"spearman\")\n",
    "\n",
    "plt.figure(figsize=(11, 9))\n",
    "sns.heatmap(corr_pearson, cmap=\"coolwarm\", vmin=-1, vmax=1, square=True, cbar_kws={\"shrink\": .8})\n",
    "plt.title(\"Feature–Feature Correlation (Pearson, numeric-only)\")\n",
    "plt.tight_layout()\n",
    "plt.show()\n",
    "\n",
    "plt.figure(figsize=(11, 9))\n",
    "sns.heatmap(corr_spearman, cmap=\"coolwarm\", vmin=-1, vmax=1, square=True, cbar_kws={\"shrink\": .8})\n",
    "plt.title(\"Feature–Feature Correlation (Spearman, numeric-only)\")\n",
    "plt.tight_layout()\n",
    "plt.show()"
   ]
  },
  {
   "cell_type": "code",
   "execution_count": 26,
   "id": "29ec2b46",
   "metadata": {},
   "outputs": [
    {
     "name": "stdout",
     "output_type": "stream",
     "text": [
      "\n",
      "[Top correlated feature pairs by |Pearson|] (numeric-only)\n",
      "  Feature A   Feature B   Pearson  |Pearson|\n",
      "        Age       MaxHR -0.382045   0.382045\n",
      "    Oldpeak         Age  0.263086   0.263086\n",
      "  RestingBP         Age  0.263084   0.263084\n",
      "      MaxHR     Oldpeak -0.180993   0.180993\n",
      "    Oldpeak   RestingBP  0.151950   0.151950\n",
      "      MaxHR   RestingBP -0.109693   0.109693\n",
      "Cholesterol   RestingBP  0.095939   0.095939\n",
      "        Age Cholesterol  0.058758   0.058758\n",
      "    Oldpeak Cholesterol  0.056824   0.056824\n",
      "Cholesterol       MaxHR -0.019856   0.019856\n"
     ]
    }
   ],
   "source": [
    "def top_k_pairs(corr_df, k=10):\n",
    "    c = corr_df.abs().where(~np.eye(corr_df.shape[0], dtype=bool))  # remove diagonal\n",
    "    pairs = (\n",
    "        c.unstack()\n",
    "         .dropna()\n",
    "         .sort_values(ascending=False)\n",
    "    )\n",
    "    # Deduplicate symmetrical pairs (A,B) and (B,A)\n",
    "    seen = set()\n",
    "    top = []\n",
    "    for (a, b), v in pairs.items():\n",
    "        key = tuple(sorted([a, b]))\n",
    "        if a == b or key in seen:\n",
    "            continue\n",
    "        seen.add(key)\n",
    "        top.append((a, b, corr_df.loc[a, b], abs(corr_df.loc[a, b])))\n",
    "        if len(top) >= k:\n",
    "            break\n",
    "    return pd.DataFrame(top, columns=[\"Feature A\", \"Feature B\", \"Pearson\", \"|Pearson|\"])\n",
    "\n",
    "top_pairs = top_k_pairs(corr_pearson, k=12)\n",
    "print(\"\\n[Top correlated feature pairs by |Pearson|] (numeric-only)\")\n",
    "print(top_pairs.to_string(index=False))"
   ]
  }
 ],
 "metadata": {
  "kernelspec": {
   "display_name": "ai",
   "language": "python",
   "name": "python3"
  },
  "language_info": {
   "codemirror_mode": {
    "name": "ipython",
    "version": 3
   },
   "file_extension": ".py",
   "mimetype": "text/x-python",
   "name": "python",
   "nbconvert_exporter": "python",
   "pygments_lexer": "ipython3",
   "version": "3.10.18"
  }
 },
 "nbformat": 4,
 "nbformat_minor": 5
}
